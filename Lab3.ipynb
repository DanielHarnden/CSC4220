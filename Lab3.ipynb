{
 "cells": [
  {
   "cell_type": "markdown",
   "metadata": {},
   "source": [
    "# Linear Regression"
   ]
  },
  {
   "cell_type": "markdown",
   "metadata": {},
   "source": [
    "Establish a linear relationship between the input variables(**X**) and single output variable(**Y**). \n",
    "\n",
    "<font color=\"green\">**Simple Linear Regression**</font>\n",
    "- When the input(**X**) is a single variable. \n",
    "\n",
    "<font color=\"green\">**Multiple Linear Regression**.</font>\n",
    "- When there are mutiple input variables(**X**)\n",
    "\n",
    "## <font color=\"green\">Simple Linear Regression</font>\n",
    "\n",
    "### <font color=\"green\">Model Representation</font>\n",
    "\n",
    "In this problem we have an input variable - **X** and one output variable - **Y**. And we want to build linear relationship between these variables. We can define this linear relationship as follows:\n",
    "\n",
    "\\\\[Y = \\beta_0 + \\beta_1X\\\\]\n",
    "\n",
    "The \\\\(\\beta_1\\\\) is called a scale factor or **coefficient** and \\\\(\\beta_0\\\\) is called **bias coefficient**. This equation is similar to the line equation \\\\(y = mx + b\\\\) with \\\\(m = \\beta_1\\\\)(Slope) and \\\\(b = \\beta_0\\\\)(Intercept). So in this Simple Linear Regression model we want to draw a line between X and Y which estimates the relationship between X and Y.\n",
    "\n",
    "We can find those coefficients  using different approaches. \n",
    "\n",
    "- **Ordinary Least Square Method** \n",
    "\n",
    "- **Gradient Descent Approach**. \n",
    "\n",
    "## <font color=\"green\">**Ordinary Least Square Method**</font>\n",
    "\n",
    "Model is,\n",
    "\n",
    "\\\\[Y = \\beta_0 + \\beta_1X\\\\]\n",
    "\n",
    "\\\\[\\beta_1 = \\frac{\\sum_{i=1}^{m} (x_i - \\bar{x})(y_i - \\bar{y})}{\\sum_{i=1}^{m} (x_i - \\bar{x})^2}\\\\]\n",
    "\n",
    "\\\\[\\beta_0 = \\bar{y} - \\beta_1\\bar{x}\\\\]"
   ]
  },
  {
   "cell_type": "code",
   "execution_count": 1,
   "metadata": {},
   "outputs": [],
   "source": [
    "# Importing library\n",
    "import numpy as np\n",
    "import pandas as pd\n",
    "import matplotlib.pyplot as plt\n",
    "plt.rcParams['figure.figsize'] = (20.0, 10.0) # Specifying  figure size"
   ]
  },
  {
   "cell_type": "code",
   "execution_count": 2,
   "metadata": {},
   "outputs": [
    {
     "data": {
      "text/html": [
       "<div>\n",
       "<style scoped>\n",
       "    .dataframe tbody tr th:only-of-type {\n",
       "        vertical-align: middle;\n",
       "    }\n",
       "\n",
       "    .dataframe tbody tr th {\n",
       "        vertical-align: top;\n",
       "    }\n",
       "\n",
       "    .dataframe thead th {\n",
       "        text-align: right;\n",
       "    }\n",
       "</style>\n",
       "<table border=\"1\" class=\"dataframe\">\n",
       "  <thead>\n",
       "    <tr style=\"text-align: right;\">\n",
       "      <th></th>\n",
       "      <th>Gender</th>\n",
       "      <th>Age Range</th>\n",
       "      <th>Size</th>\n",
       "      <th>Weight</th>\n",
       "    </tr>\n",
       "  </thead>\n",
       "  <tbody>\n",
       "    <tr>\n",
       "      <th>0</th>\n",
       "      <td>1</td>\n",
       "      <td>1</td>\n",
       "      <td>4512</td>\n",
       "      <td>1530</td>\n",
       "    </tr>\n",
       "    <tr>\n",
       "      <th>1</th>\n",
       "      <td>1</td>\n",
       "      <td>1</td>\n",
       "      <td>3738</td>\n",
       "      <td>1297</td>\n",
       "    </tr>\n",
       "    <tr>\n",
       "      <th>2</th>\n",
       "      <td>1</td>\n",
       "      <td>1</td>\n",
       "      <td>4261</td>\n",
       "      <td>1335</td>\n",
       "    </tr>\n",
       "    <tr>\n",
       "      <th>3</th>\n",
       "      <td>1</td>\n",
       "      <td>1</td>\n",
       "      <td>3777</td>\n",
       "      <td>1282</td>\n",
       "    </tr>\n",
       "    <tr>\n",
       "      <th>4</th>\n",
       "      <td>1</td>\n",
       "      <td>1</td>\n",
       "      <td>4177</td>\n",
       "      <td>1590</td>\n",
       "    </tr>\n",
       "  </tbody>\n",
       "</table>\n",
       "</div>"
      ],
      "text/plain": [
       "   Gender  Age Range  Size  Weight\n",
       "0       1          1  4512    1530\n",
       "1       1          1  3738    1297\n",
       "2       1          1  4261    1335\n",
       "3       1          1  3777    1282\n",
       "4       1          1  4177    1590"
      ]
     },
     "execution_count": 2,
     "metadata": {},
     "output_type": "execute_result"
    }
   ],
   "source": [
    "# Reading Data\n",
    "data = pd.read_csv('example1.csv')\n",
    "data.head()"
   ]
  },
  {
   "cell_type": "code",
   "execution_count": 3,
   "metadata": {},
   "outputs": [],
   "source": [
    "# Collecting X and Y\n",
    "X = data['Size'].values\n",
    "Y = data['Weight'].values"
   ]
  },
  {
   "cell_type": "code",
   "execution_count": 4,
   "metadata": {},
   "outputs": [
    {
     "data": {
      "image/png": "[encoded data removed]",
      "text/plain": [
       "<Figure size 1440x720 with 1 Axes>"
      ]
     },
     "metadata": {
      "needs_background": "light"
     },
     "output_type": "display_data"
    }
   ],
   "source": [
    "# Scatter plot of x/y\n",
    "plt.scatter(X, Y, c='r', label='Scatter Plot') # here, c is color (you may use either 'r', 'red' or '#FF0000')\n",
    "plt.show()"
   ]
  },
  {
   "cell_type": "markdown",
   "metadata": {},
   "source": [
    "Now, lets implement the model,\n",
    "\n",
    "$Y = \\beta_0 + \\beta_1X$\n",
    "\n",
    "where,\n",
    "\n",
    "\\\\[\\beta_1 = \\frac{\\sum_{i=1}^{m} (x_i - \\bar{x})(y_i - \\bar{y})}{\\sum_{i=1}^{m} (x_i - \\bar{x})^2}\\\\]\n",
    "\n",
    "\\\\[\\beta_0 = \\bar{y} - \\beta_1\\bar{x}\\\\]\n",
    "Note: $\\bar{x}$ and $\\bar{y}$ = mean of X and Y"
   ]
  },
  {
   "cell_type": "code",
   "execution_count": 5,
   "metadata": {},
   "outputs": [
    {
     "name": "stdout",
     "output_type": "stream",
     "text": [
      "0.26342933948939945 325.57342104944223\n"
     ]
    }
   ],
   "source": [
    "# Calculating coefficient\n",
    "\n",
    "# Mean X and Y\n",
    "mean_x = np.mean(X)\n",
    "mean_y = np.mean(Y)\n",
    "\n",
    "# Total number of values\n",
    "n = len(X)\n",
    "\n",
    "# Using the formula to calculate b1 and b0\n",
    "numer = 0\n",
    "denom = 0\n",
    "for i in range(n):\n",
    "    numer += (X[i] - mean_x) * (Y[i] - mean_y)\n",
    "    denom += (X[i] - mean_x) ** 2\n",
    "b1 = numer / denom\n",
    "b0 = mean_y - (b1 * mean_x)\n",
    "\n",
    "# Printing coefficients\n",
    "print(b1, b0)"
   ]
  },
  {
   "cell_type": "code",
   "execution_count": 6,
   "metadata": {},
   "outputs": [
    {
     "data": {
      "image/png": "[encoded data removed]",
      "text/plain": [
       "<Figure size 1440x720 with 1 Axes>"
      ]
     },
     "metadata": {
      "needs_background": "light"
     },
     "output_type": "display_data"
    }
   ],
   "source": [
    "# Plotting Values and Regression Line\n",
    "\n",
    "max_x = np.max(X) + 100\n",
    "min_x = np.min(X) - 100\n",
    "\n",
    "# Calculating line values x and y\n",
    "x = np.linspace(min_x, max_x, 1000)\n",
    "y = b0 + b1 * x\n",
    "\n",
    "# Ploting Line\n",
    "plt.plot(x, y, color='g', label='Regression Line')\n",
    "# Ploting Scatter Points\n",
    "plt.scatter(X, Y, c='red', label='Scatter Plot')\n",
    "\n",
    "plt.xlabel('Head Size in cm3')\n",
    "plt.ylabel('Brain Weight in grams')\n",
    "plt.legend()\n",
    "plt.show()"
   ]
  },
  {
   "cell_type": "markdown",
   "metadata": {},
   "source": [
    "There are many methods to evaluate models. \n",
    "- **Root Mean Squared Error** \n",
    "- **Coefficient of Determination(\\\\(R^2\\\\) Score)**.\n",
    "\n",
    "Root Mean Squared Error is the square root of sum of all errors divided by number of values, or Mathematically,\n",
    "\n",
    "\\\\[RMSE = \\sqrt{\\sum_{i=1}^{m} \\frac{1}{m} (y_i - \\hat{y_i})^2}\\\\]\n",
    "\n",
    "Here \\\\(\\hat{y_i}\\\\) is the i<sup>th</sup> predicted output values. "
   ]
  },
  {
   "cell_type": "code",
   "execution_count": 7,
   "metadata": {},
   "outputs": [
    {
     "name": "stdout",
     "output_type": "stream",
     "text": [
      "72.1206213783709\n"
     ]
    }
   ],
   "source": [
    "# Calculating Root Mean Squares Error\n",
    "rmse = 0\n",
    "for i in range(n):\n",
    "    y_pred = b0 + b1 * X[i]  # calculate y hat[i] the ith predicted output value\n",
    "    rmse += (Y[i] - y_pred) ** 2 \n",
    "rmse = np.sqrt(rmse/n)\n",
    "print(rmse)"
   ]
  },
  {
   "cell_type": "markdown",
   "metadata": {},
   "source": [
    " \\\\(R^2\\\\) is defined as follows,\n",
    "\n",
    "\\\\[SS_t = \\sum_{i=1}^{m} (y_i - \\bar{y})^2\\\\]\n",
    "\n",
    "\\\\[SS_r = \\sum_{i=1}^{m} (y_i - \\hat{y_i})^2\\\\]\n",
    "\n",
    "\\\\[R^2 \\equiv 1 - \\frac{SS_r}{SS_t}\\\\]\n",
    "\n",
    "\\\\(SS_t\\\\) is the total sum of squares and \\\\(SS_r\\\\) is the total sum of squares of residuals.\n",
    "\n",
    "\\\\(R^2\\\\) Score usually range from 0 to 1. It will also become negative if the model is completely wrong. Now we will find \\\\(R^2\\\\) Score."
   ]
  },
  {
   "cell_type": "code",
   "execution_count": 8,
   "metadata": {},
   "outputs": [
    {
     "name": "stdout",
     "output_type": "stream",
     "text": [
      "0.6393117199570003\n"
     ]
    }
   ],
   "source": [
    "# Calculating R2 Score# \n",
    "ss_tot = 0\n",
    "ss_res = 0\n",
    "for i in range(n):\n",
    "    y_pred = b0 + b1 * X[i]  # calculate y hat[i]\n",
    "    ss_tot += (Y[i] - mean_y) ** 2\n",
    "    ss_res += (Y[i] - y_pred) ** 2\n",
    "r2 = 1 - (ss_res/ss_tot)\n",
    "print(r2)"
   ]
  },
  {
   "cell_type": "markdown",
   "metadata": {},
   "source": [
    "### <font color=\"green\">The scikit-learn Approach</font>"
   ]
  },
  {
   "cell_type": "code",
   "execution_count": 9,
   "metadata": {},
   "outputs": [
    {
     "name": "stdout",
     "output_type": "stream",
     "text": [
      "(237,)\n",
      "(237, 1)\n",
      "72.1206213783709\n",
      "0.639311719957\n"
     ]
    }
   ],
   "source": [
    "# Validation using Scikit Learn\n",
    "from sklearn.linear_model import LinearRegression\n",
    "from sklearn.metrics import mean_squared_error\n",
    "\n",
    "print(X.shape)\n",
    "# Cannot use Rank 1 matrix in scikit learn\n",
    "X = X.reshape((n, 1))\n",
    "print(X.shape)\n",
    "\n",
    "# Creating Model\n",
    "reg = LinearRegression()\n",
    "\n",
    "# Fitting training data\n",
    "reg = reg.fit(X, Y)\n",
    "\n",
    "# Y Prediction\n",
    "Y_pred = reg.predict(X)\n",
    "\n",
    "# Calculating RMSE and R2 Score\n",
    "mse = mean_squared_error(Y, Y_pred)\n",
    "r2_score = reg.score(X, Y)\n",
    "\n",
    "print(np.sqrt(mse))\n",
    "print(r2_score)"
   ]
  },
  {
   "cell_type": "markdown",
   "metadata": {},
   "source": [
    "## <font color=\"green\">Multiple Linear Regression</font>\n",
    "\n",
    "Multiple Linear Regression is a type of Linear Regression when the input has multiple features(variables).\n",
    "\n",
    "### <font color=\"green\">Model Representation</font>\n",
    "\n",
    "Similar to Simple Linear Regression, we have input variable(**X**) and output variable(**Y**). But the input variable has \\\\(n\\\\) features. Therefore, we can represent this linear model as follows;\n",
    "\n",
    "\\\\[Y = \\beta_0 + \\beta_1x_1 + \\beta_2x_2 + ... + \\beta_nx_n\\\\]\n",
    "\n",
    "\\\\(x_i\\\\) is the i<sup>th</sup> feature in input variable. By introducing \\\\(x_0 = 1\\\\), we can rewrite this equation.\n",
    "\n",
    "\\\\[Y = \\beta_0x_0 + \\beta_1x_1 + \\beta_2x_2 + ... + \\beta_nx_n\\\\]\n",
    "\n",
    "\\\\[x_0 = 1\\\\]\n",
    "\n",
    "Now we can convert this eqaution to matrix form.\n",
    "\n",
    "\\\\[Y = \\beta^TX\\\\]\n",
    "\n",
    "Where,\n",
    "\n",
    "\\\\[\\beta = \\begin{bmatrix}\\beta_0\\\\\\beta_1\\\\\\beta_2\\\\.\\\\.\\\\\\beta_n\\end{bmatrix}\\\\]\n",
    "\n",
    "and\n",
    "\n",
    "\\\\[X = \\begin{bmatrix}x_0\\\\x_1\\\\x_2\\\\.\\\\.\\\\x_n\\end{bmatrix}\\\\]\n",
    "\n",
    "We have to define the cost of the model. Cost bascially gives the error in our model. **Y** in above equation is the our hypothesis(approximation). We are going to define it as our hypothesis function.\n",
    "\n",
    "\\\\[h_\\beta(x) = \\beta^Tx = \\beta_0 + \\beta_1x_1 + \\beta_2x_2 + ... + \\beta_nx_n\\\\] \n",
    "\n",
    "And the cost is,\n",
    "\n",
    "\\\\[J(\\beta) = \\frac{1}{2m} \\sum_{i=1}^{m} (h_\\beta(x^{\\textrm{(i)}}) - y^{\\textrm{(i)}})^2\\\\]\n",
    "\n",
    "We adjust $\\beta_j$ to minimze the cost function $J(\\beta)$. We use **Gradient Descent** for this.\n",
    "\n",
    "### <font color=\"green\">Gradient Descent</font>\n",
    "\n",
    "Gradient Descent is an optimization algorithm. We will optimize our cost function using Gradient Descent Algorithm.\n",
    "\n",
    "\n",
    "#### <font color=\"green\">Step 1</font>\n",
    "Initialize values \\\\(\\beta_0\\\\), \\\\(\\beta_1\\\\),..., \\\\(\\beta_n\\\\) with some value. In this case we will initialize with 0.\n",
    "\n",
    "#### <font color=\"green\">Step 2</font>\n",
    "\n",
    "Iteratively update,\n",
    "\n",
    "\\\\[\\beta_j := \\beta_j - \\alpha\\frac{\\partial}{\\partial \\beta_j} J(\\beta)\\\\]\n",
    "\n",
    "until it converges.\n",
    "\n",
    "This is the procedure. Here \\\\(\\alpha\\\\) is the learning rate. This operation \\\\(\\frac{\\partial}{\\partial \\beta_j} J(\\beta)\\\\) means we are finding partial derivate of cost with respect to each \\\\(\\beta_j\\\\). This is called Gradient.\n",
    "\n",
    "\n",
    "In step 2 we are changing the values of \\\\(\\beta_j\\\\) in a direction in which it reduces our cost function. And Gradient gives the direction in which we want to move. Finally we will reach the minima of our cost function. But we don't want to change values of \\\\(\\beta_j\\\\) drastically, because we might miss the minima. That's why we need learning rate.\n",
    "\n",
    "But we still didn't find the value of \\\\(\\frac{\\partial}{\\partial \\beta_j} J(\\beta)\\\\). After we applying the mathematics. The step 2 becomes.\n",
    "\n",
    "\\\\[\\beta_j \\leftarrow \\beta_j - \\alpha\\frac{1}{m}\\sum_{i=1}^m (h_\\beta(x^{(i)})-y^{(i)})x_{j}^{(i)}\\\\]\n",
    "\n",
    "We iteratively change values of \\\\(\\beta_j\\\\) according to above equation. This particular method is called **Batch Gradient Descent**."
   ]
  },
  {
   "cell_type": "code",
   "execution_count": 10,
   "metadata": {},
   "outputs": [
    {
     "name": "stdout",
     "output_type": "stream",
     "text": [
      "(1000, 3)\n"
     ]
    },
    {
     "data": {
      "text/html": [
       "<div>\n",
       "<style scoped>\n",
       "    .dataframe tbody tr th:only-of-type {\n",
       "        vertical-align: middle;\n",
       "    }\n",
       "\n",
       "    .dataframe tbody tr th {\n",
       "        vertical-align: top;\n",
       "    }\n",
       "\n",
       "    .dataframe thead th {\n",
       "        text-align: right;\n",
       "    }\n",
       "</style>\n",
       "<table border=\"1\" class=\"dataframe\">\n",
       "  <thead>\n",
       "    <tr style=\"text-align: right;\">\n",
       "      <th></th>\n",
       "      <th>Speaking</th>\n",
       "      <th>Reading</th>\n",
       "      <th>Writing</th>\n",
       "    </tr>\n",
       "  </thead>\n",
       "  <tbody>\n",
       "    <tr>\n",
       "      <th>0</th>\n",
       "      <td>48</td>\n",
       "      <td>68</td>\n",
       "      <td>63</td>\n",
       "    </tr>\n",
       "    <tr>\n",
       "      <th>1</th>\n",
       "      <td>62</td>\n",
       "      <td>81</td>\n",
       "      <td>72</td>\n",
       "    </tr>\n",
       "    <tr>\n",
       "      <th>2</th>\n",
       "      <td>79</td>\n",
       "      <td>80</td>\n",
       "      <td>78</td>\n",
       "    </tr>\n",
       "    <tr>\n",
       "      <th>3</th>\n",
       "      <td>76</td>\n",
       "      <td>83</td>\n",
       "      <td>79</td>\n",
       "    </tr>\n",
       "    <tr>\n",
       "      <th>4</th>\n",
       "      <td>59</td>\n",
       "      <td>64</td>\n",
       "      <td>62</td>\n",
       "    </tr>\n",
       "  </tbody>\n",
       "</table>\n",
       "</div>"
      ],
      "text/plain": [
       "   Speaking  Reading  Writing\n",
       "0        48       68       63\n",
       "1        62       81       72\n",
       "2        79       80       78\n",
       "3        76       83       79\n",
       "4        59       64       62"
      ]
     },
     "execution_count": 10,
     "metadata": {},
     "output_type": "execute_result"
    }
   ],
   "source": [
    "data = pd.read_csv('example2.csv')\n",
    "print(data.shape)\n",
    "data.head()"
   ]
  },
  {
   "cell_type": "markdown",
   "metadata": {},
   "source": [
    "## <font color=\"green\">Predict the score of writing exam from speaking and reading scores</font>\n",
    "\n",
    "<font color=\"green\">Store scores to an array.</font>"
   ]
  },
  {
   "cell_type": "code",
   "execution_count": 11,
   "metadata": {},
   "outputs": [],
   "source": [
    "speak = data['Speaking'].values\n",
    "read = data['Reading'].values\n",
    "write = data['Writing'].values"
   ]
  },
  {
   "cell_type": "markdown",
   "metadata": {},
   "source": [
    "<font color=\"green\">Generate our X, Y and \\\\(\\beta\\\\).</font>"
   ]
  },
  {
   "cell_type": "code",
   "execution_count": 12,
   "metadata": {},
   "outputs": [],
   "source": [
    "m = len(speak)\n",
    "x0 = np.ones(m)\n",
    "X = np.array([x0, speak, read]).T\n",
    "# Initial Coefficients\n",
    "B = np.array([0, 0, 0])\n",
    "Y = np.array(write)\n",
    "alpha = 0.0001"
   ]
  },
  {
   "cell_type": "markdown",
   "metadata": {},
   "source": [
    "Define Cost Function $J(\\beta) = \\frac{1}{2m} \\sum_{i=1}^{m} (h_\\beta(x^{\\textrm{(i)}}) - y^{\\textrm{(i)}})^2$"
   ]
  },
  {
   "cell_type": "code",
   "execution_count": 13,
   "metadata": {},
   "outputs": [],
   "source": [
    "def cost_function(X, Y, B):\n",
    "    m = len(Y)\n",
    "    J = np.sum((X.dot(B) - Y) ** 2)/(2 * m) \n",
    "    return J"
   ]
  },
  {
   "cell_type": "code",
   "execution_count": 14,
   "metadata": {},
   "outputs": [
    {
     "name": "stdout",
     "output_type": "stream",
     "text": [
      "2470.11\n"
     ]
    }
   ],
   "source": [
    "inital_cost = cost_function(X, Y, B)\n",
    "print(inital_cost)"
   ]
  },
  {
   "cell_type": "markdown",
   "metadata": {},
   "source": [
    "As you can see initial cost is huge. \n",
    "\n",
    "**<font color=\"green\" size=5>Reduce it periodically using Gradient Descent. The steps are given below </font>**\n",
    "\n",
    "**<font color=\"green\">Hypothesis:  \\\\(h_\\beta(x) = \\beta^Tx\\\\)</font>**\n",
    "\n",
    "**<font color=\"green\">Loss: \\\\((h_\\beta(x)-y)\\\\)</font>**\n",
    "\n",
    "**<font color=\"green\">Gradient: \\\\((h_\\beta(x)-y)x_{j}\\\\)/m</font>**\n",
    "\n",
    "**<font color=\"green\">Gradient Descent Updation: \\\\(\\beta_j := \\beta_j - \\alpha(h_\\beta(x)-y)x_{j})\\\\)</font>**\n",
    "\n",
    "**<font color=\"red\" size=3>  Daniel Harnden's Code:</font>**"
   ]
  },
  {
   "cell_type": "code",
   "execution_count": 15,
   "metadata": {},
   "outputs": [],
   "source": [
    "def gradient_descent(X, Y, B, alpha, iterations):\n",
    "    cost_history = [0] * iterations\n",
    "    m = len(Y)\n",
    "    \n",
    "    for iteration in range(iterations):\n",
    "        # Calculate Hypothesis Values\n",
    "        hypothesis = X.dot(B)\n",
    "        \n",
    "        # Calculate Loss function\n",
    "        loss = hypothesis - y\n",
    "        \n",
    "        # Calculate Gradient \n",
    "        gradient = X.T.dot(loss) / m\n",
    "        # Changing Values of B using Gradient\n",
    "        B = B - alpha * gradient\n",
    "        # New Cost Value\n",
    "        cost = cost_function(X, Y, B)\n",
    "        cost_history[iteration] = cost\n",
    "        \n",
    "    return B, cost_history"
   ]
  },
  {
   "cell_type": "markdown",
   "metadata": {},
   "source": [
    "**<font color=\"green\" size=5>Compute and print the final value of \\\\(\\beta\\\\)</font>**\n",
    "\n",
    "<font color=\"green\">$\\beta_j \\leftarrow \\beta_j - \\alpha\\frac{1}{m}\\sum_{i=1}^m (h_\\beta(x^{(i)})-y^{(i)})x_{j}^{(i)}$</font>\n",
    "\n",
    "\n",
    "**<font color=\"red\" size=3>  Daniel Harnden's Code:</font>**"
   ]
  },
  {
   "cell_type": "code",
   "execution_count": 16,
   "metadata": {},
   "outputs": [
    {
     "name": "stdout",
     "output_type": "stream",
     "text": [
      "[424.37092179   5.20456773   7.15659579]\n",
      "29051.596449579352\n"
     ]
    }
   ],
   "source": [
    "iterations = 100000\n",
    "# call the gradient_descent function you created above (note: it returns two values)\n",
    "newB, cost_history = gradient_descent(X, y, B, alpha, iterations)\n",
    "\n",
    "# New Values of B\n",
    "print(newB)\n",
    "\n",
    "# Final Cost of new B\n",
    "print(cost_history[-1])"
   ]
  },
  {
   "cell_type": "markdown",
   "metadata": {},
   "source": [
    "**<font color=\"green\" size=5>Calculate RMSE and \\\\(R^2\\\\) Score of your model to evaluate.  </font>**\n",
    "\n",
    "\n",
    "**<font color=\"red\" size=3>  Daniel Harnden's Code:</font>**"
   ]
  },
  {
   "cell_type": "code",
   "execution_count": 17,
   "metadata": {},
   "outputs": [
    {
     "name": "stdout",
     "output_type": "stream",
     "text": [
      "1216.6219333497893\n",
      "-5701.287037465854\n"
     ]
    }
   ],
   "source": [
    "Y_pred = X.dot(newB)\n",
    "\n",
    "# Calculate rmse\n",
    "rmse = np.sqrt(mean_squared_error(Y, Y_pred))\n",
    "\n",
    "# Calculate r2_score\n",
    "ss_tot = 0\n",
    "ss_res = 0\n",
    "n = len(X)\n",
    "mean_y = np.mean(Y)\n",
    "\n",
    "for i in range(n):\n",
    "    ss_tot += (Y[i] - mean_y) ** 2\n",
    "    ss_res += (Y[i] - y_pred) ** 2\n",
    "r2_score = 1 - (ss_res/ss_tot)\n",
    "\n",
    "# print rmse\n",
    "print(rmse)\n",
    "# print r2_score\n",
    "print(r2_score)"
   ]
  },
  {
   "cell_type": "markdown",
   "metadata": {},
   "source": [
    "**<font color=\"green\" size=5>Now implement this model using scikit-learn.</font>**\n",
    "\n",
    "\n",
    "### <font color=\"green\">The scikit-learn Approach</font>\n",
    "\n",
    "<font color=\"green\">scikit-learn approach is very similar to Simple Linear Regression Model.</font>\n",
    "\n",
    "\n",
    "**<font color=\"red\" size=3>  Daniel Harnden's Code:</font>**"
   ]
  },
  {
   "cell_type": "code",
   "execution_count": 18,
   "metadata": {},
   "outputs": [
    {
     "name": "stdout",
     "output_type": "stream",
     "text": [
      "4.572887051836439\n",
      "0.9098901726717316\n"
     ]
    }
   ],
   "source": [
    "# Creating Model\n",
    "mulReg = LinearRegression()\n",
    "\n",
    "# Fitting training data\n",
    "mulReg = mulReg.fit(X, Y)\n",
    "\n",
    "# Y Prediction\n",
    "Y_pred = mulReg.predict(X)\n",
    "\n",
    "# Calculating RMSE and R2 Score\n",
    "mse = mean_squared_error(Y, Y_pred)\n",
    "r2_score = mulReg.score(X, Y)\n",
    "\n",
    "print(np.sqrt(mse))\n",
    "print(r2_score)"
   ]
  },
  {
   "cell_type": "markdown",
   "metadata": {},
   "source": [
    "## <font color=\"green\">Regularized Regression</font>"
   ]
  },
  {
   "cell_type": "code",
   "execution_count": 19,
   "metadata": {},
   "outputs": [
    {
     "data": {
      "text/html": [
       "<div>\n",
       "<style scoped>\n",
       "    .dataframe tbody tr th:only-of-type {\n",
       "        vertical-align: middle;\n",
       "    }\n",
       "\n",
       "    .dataframe tbody tr th {\n",
       "        vertical-align: top;\n",
       "    }\n",
       "\n",
       "    .dataframe thead th {\n",
       "        text-align: right;\n",
       "    }\n",
       "</style>\n",
       "<table border=\"1\" class=\"dataframe\">\n",
       "  <thead>\n",
       "    <tr style=\"text-align: right;\">\n",
       "      <th></th>\n",
       "      <th>0</th>\n",
       "      <th>1</th>\n",
       "      <th>2</th>\n",
       "      <th>3</th>\n",
       "      <th>4</th>\n",
       "      <th>5</th>\n",
       "      <th>6</th>\n",
       "      <th>7</th>\n",
       "      <th>8</th>\n",
       "      <th>9</th>\n",
       "    </tr>\n",
       "  </thead>\n",
       "  <tbody>\n",
       "    <tr>\n",
       "      <th>0</th>\n",
       "      <td>0.038076</td>\n",
       "      <td>0.050680</td>\n",
       "      <td>0.061696</td>\n",
       "      <td>0.021872</td>\n",
       "      <td>-0.044223</td>\n",
       "      <td>-0.034821</td>\n",
       "      <td>-0.043401</td>\n",
       "      <td>-0.002592</td>\n",
       "      <td>0.019908</td>\n",
       "      <td>-0.017646</td>\n",
       "    </tr>\n",
       "    <tr>\n",
       "      <th>1</th>\n",
       "      <td>-0.001882</td>\n",
       "      <td>-0.044642</td>\n",
       "      <td>-0.051474</td>\n",
       "      <td>-0.026328</td>\n",
       "      <td>-0.008449</td>\n",
       "      <td>-0.019163</td>\n",
       "      <td>0.074412</td>\n",
       "      <td>-0.039493</td>\n",
       "      <td>-0.068330</td>\n",
       "      <td>-0.092204</td>\n",
       "    </tr>\n",
       "    <tr>\n",
       "      <th>2</th>\n",
       "      <td>0.085299</td>\n",
       "      <td>0.050680</td>\n",
       "      <td>0.044451</td>\n",
       "      <td>-0.005671</td>\n",
       "      <td>-0.045599</td>\n",
       "      <td>-0.034194</td>\n",
       "      <td>-0.032356</td>\n",
       "      <td>-0.002592</td>\n",
       "      <td>0.002864</td>\n",
       "      <td>-0.025930</td>\n",
       "    </tr>\n",
       "    <tr>\n",
       "      <th>3</th>\n",
       "      <td>-0.089063</td>\n",
       "      <td>-0.044642</td>\n",
       "      <td>-0.011595</td>\n",
       "      <td>-0.036656</td>\n",
       "      <td>0.012191</td>\n",
       "      <td>0.024991</td>\n",
       "      <td>-0.036038</td>\n",
       "      <td>0.034309</td>\n",
       "      <td>0.022692</td>\n",
       "      <td>-0.009362</td>\n",
       "    </tr>\n",
       "    <tr>\n",
       "      <th>4</th>\n",
       "      <td>0.005383</td>\n",
       "      <td>-0.044642</td>\n",
       "      <td>-0.036385</td>\n",
       "      <td>0.021872</td>\n",
       "      <td>0.003935</td>\n",
       "      <td>0.015596</td>\n",
       "      <td>0.008142</td>\n",
       "      <td>-0.002592</td>\n",
       "      <td>-0.031991</td>\n",
       "      <td>-0.046641</td>\n",
       "    </tr>\n",
       "  </tbody>\n",
       "</table>\n",
       "</div>"
      ],
      "text/plain": [
       "          0         1         2         3         4         5         6  \\\n",
       "0  0.038076  0.050680  0.061696  0.021872 -0.044223 -0.034821 -0.043401   \n",
       "1 -0.001882 -0.044642 -0.051474 -0.026328 -0.008449 -0.019163  0.074412   \n",
       "2  0.085299  0.050680  0.044451 -0.005671 -0.045599 -0.034194 -0.032356   \n",
       "3 -0.089063 -0.044642 -0.011595 -0.036656  0.012191  0.024991 -0.036038   \n",
       "4  0.005383 -0.044642 -0.036385  0.021872  0.003935  0.015596  0.008142   \n",
       "\n",
       "          7         8         9  \n",
       "0 -0.002592  0.019908 -0.017646  \n",
       "1 -0.039493 -0.068330 -0.092204  \n",
       "2 -0.002592  0.002864 -0.025930  \n",
       "3  0.034309  0.022692 -0.009362  \n",
       "4 -0.002592 -0.031991 -0.046641  "
      ]
     },
     "execution_count": 19,
     "metadata": {},
     "output_type": "execute_result"
    }
   ],
   "source": [
    "# import sklearn's diabetes dataset for regression (https://scikit-learn.org/stable/modules/generated/sklearn.datasets.load_diabetes.html)\n",
    "from sklearn.datasets import load_diabetes\n",
    "from sklearn.model_selection import train_test_split\n",
    "\n",
    "# load the dataset; returns data (X) and target (y)\n",
    "diabetes, target = load_diabetes(return_X_y=True)\n",
    "diabetes = pd.DataFrame(diabetes)\n",
    "\n",
    "diabetes.head()"
   ]
  },
  {
   "cell_type": "code",
   "execution_count": 20,
   "metadata": {},
   "outputs": [],
   "source": [
    "# Separate data and target to X and y\n",
    "X = diabetes\n",
    "y = target"
   ]
  },
  {
   "cell_type": "markdown",
   "metadata": {},
   "source": [
    "**<font color=\"green\" size=3>Split the data using train_test_split.</font>**\n",
    "\n",
    "\n",
    "**<font color=\"red\" size=3>  Daniel Harnden's Code:</font>**"
   ]
  },
  {
   "cell_type": "code",
   "execution_count": 21,
   "metadata": {},
   "outputs": [],
   "source": [
    "# set up training and test data (test size = 0.25)\n",
    "X_train, X_test, y_train, y_test = train_test_split(X, y, test_size=0.25);"
   ]
  },
  {
   "cell_type": "code",
   "execution_count": 22,
   "metadata": {},
   "outputs": [
    {
     "data": {
      "text/plain": [
       "LinearRegression()"
      ]
     },
     "execution_count": 22,
     "metadata": {},
     "output_type": "execute_result"
    }
   ],
   "source": [
    "# Train the linear regression model\n",
    "lr = LinearRegression()\n",
    "lr.fit(X_train, y_train)"
   ]
  },
  {
   "cell_type": "code",
   "execution_count": 23,
   "metadata": {},
   "outputs": [
    {
     "name": "stdout",
     "output_type": "stream",
     "text": [
      "[0.53035999 0.33454336 0.5235947  0.43969503 0.6096721 ]\n",
      "Mean:  0.4875730346768347\n",
      "Standard deviation:  0.09353806765981111\n"
     ]
    }
   ],
   "source": [
    "from sklearn.model_selection import cross_val_score\n",
    "\n",
    "# get r2 cross validation scores (https://scikit-learn.org/stable/modules/generated/sklearn.model_selection.cross_val_score.html)\n",
    "scores = cross_val_score(lr, X_train, y_train, cv=5, scoring='r2')\n",
    "    \n",
    "print(scores)\n",
    "print('Mean: ', np.mean(scores)) \n",
    "print('Standard deviation: ', np.std(scores))  "
   ]
  },
  {
   "cell_type": "markdown",
   "metadata": {},
   "source": [
    "### <font color=\"green\">Ridge Regression</font>"
   ]
  },
  {
   "cell_type": "code",
   "execution_count": 24,
   "metadata": {},
   "outputs": [
    {
     "name": "stdout",
     "output_type": "stream",
     "text": [
      "[0.40986899 0.29669628 0.42730118 0.43367512 0.4228954 ]\n",
      "Mean:  0.398087393500748\n",
      "Standard deviation:  0.05129197490659815\n"
     ]
    }
   ],
   "source": [
    "from sklearn.linear_model import Ridge\n",
    "\n",
    "# Train model with default alpha=1\n",
    "ridge = Ridge(alpha=1)\n",
    "ridge.fit(X_train, y_train)\n",
    "\n",
    "# get cross val scores\n",
    "scores = cross_val_score(ridge, X_train, y_train, cv=5, scoring='r2')\n",
    "\n",
    "print(scores)\n",
    "print('Mean: ', np.mean(scores)) \n",
    "print('Standard deviation: ', np.std(scores))  "
   ]
  },
  {
   "cell_type": "markdown",
   "metadata": {},
   "source": [
    "### <font color=\"green\">Let's see if we can improve the \\\\(R^2\\\\) score by adjusting the value of alpha using [grid search](https://towardsdatascience.com/hyperparameter-tuning-c5619e7e6624)</font>"
   ]
  },
  {
   "cell_type": "code",
   "execution_count": 25,
   "metadata": {
    "scrolled": true
   },
   "outputs": [],
   "source": [
    "# find optimal alpha with grid search\n",
    "from sklearn.model_selection import GridSearchCV\n",
    "\n",
    "# some possible values for alpha \n",
    "#alpha = [1e-12, 1e-10, 1e-8, 1e-4, 1e-3, 1e-2, 0.1, 1, 5, 10, 20, 50, 100, 500, 1000]"
   ]
  },
  {
   "cell_type": "markdown",
   "metadata": {},
   "source": [
    "**<font color=\"green\" size=3>Play with the parameters for GridSearchCV for different values of alpha.</font>**\n",
    "\n",
    "\n",
    "**<font color=\"red\" size=3>  Daniel Harnden's Code:</font>**"
   ]
  },
  {
   "cell_type": "code",
   "execution_count": 26,
   "metadata": {},
   "outputs": [
    {
     "data": {
      "text/html": [
       "<div>\n",
       "<style scoped>\n",
       "    .dataframe tbody tr th:only-of-type {\n",
       "        vertical-align: middle;\n",
       "    }\n",
       "\n",
       "    .dataframe tbody tr th {\n",
       "        vertical-align: top;\n",
       "    }\n",
       "\n",
       "    .dataframe thead th {\n",
       "        text-align: right;\n",
       "    }\n",
       "</style>\n",
       "<table border=\"1\" class=\"dataframe\">\n",
       "  <thead>\n",
       "    <tr style=\"text-align: right;\">\n",
       "      <th></th>\n",
       "      <th>mean_fit_time</th>\n",
       "      <th>std_fit_time</th>\n",
       "      <th>mean_score_time</th>\n",
       "      <th>std_score_time</th>\n",
       "      <th>param_alpha</th>\n",
       "      <th>params</th>\n",
       "      <th>split0_test_score</th>\n",
       "      <th>split1_test_score</th>\n",
       "      <th>split2_test_score</th>\n",
       "      <th>split3_test_score</th>\n",
       "      <th>split4_test_score</th>\n",
       "      <th>mean_test_score</th>\n",
       "      <th>std_test_score</th>\n",
       "      <th>rank_test_score</th>\n",
       "    </tr>\n",
       "  </thead>\n",
       "  <tbody>\n",
       "    <tr>\n",
       "      <th>0</th>\n",
       "      <td>0.021876</td>\n",
       "      <td>0.007654</td>\n",
       "      <td>0.000000</td>\n",
       "      <td>0.000000</td>\n",
       "      <td>0.0</td>\n",
       "      <td>{'alpha': 1e-12}</td>\n",
       "      <td>0.530360</td>\n",
       "      <td>0.334543</td>\n",
       "      <td>0.523595</td>\n",
       "      <td>0.439695</td>\n",
       "      <td>0.609672</td>\n",
       "      <td>0.487573</td>\n",
       "      <td>0.093538</td>\n",
       "      <td>2</td>\n",
       "    </tr>\n",
       "    <tr>\n",
       "      <th>1</th>\n",
       "      <td>0.021474</td>\n",
       "      <td>0.007191</td>\n",
       "      <td>0.000000</td>\n",
       "      <td>0.000000</td>\n",
       "      <td>0.01</td>\n",
       "      <td>{'alpha': 0.01}</td>\n",
       "      <td>0.528804</td>\n",
       "      <td>0.336219</td>\n",
       "      <td>0.522995</td>\n",
       "      <td>0.463789</td>\n",
       "      <td>0.605908</td>\n",
       "      <td>0.491543</td>\n",
       "      <td>0.089836</td>\n",
       "      <td>1</td>\n",
       "    </tr>\n",
       "    <tr>\n",
       "      <th>2</th>\n",
       "      <td>0.003125</td>\n",
       "      <td>0.006251</td>\n",
       "      <td>0.006251</td>\n",
       "      <td>0.007656</td>\n",
       "      <td>1</td>\n",
       "      <td>{'alpha': 1}</td>\n",
       "      <td>0.409869</td>\n",
       "      <td>0.296696</td>\n",
       "      <td>0.427301</td>\n",
       "      <td>0.433675</td>\n",
       "      <td>0.422895</td>\n",
       "      <td>0.398087</td>\n",
       "      <td>0.051292</td>\n",
       "      <td>3</td>\n",
       "    </tr>\n",
       "    <tr>\n",
       "      <th>3</th>\n",
       "      <td>0.003125</td>\n",
       "      <td>0.006251</td>\n",
       "      <td>0.006251</td>\n",
       "      <td>0.007656</td>\n",
       "      <td>100</td>\n",
       "      <td>{'alpha': 100}</td>\n",
       "      <td>0.017298</td>\n",
       "      <td>-0.037187</td>\n",
       "      <td>-0.067479</td>\n",
       "      <td>-0.001282</td>\n",
       "      <td>0.010996</td>\n",
       "      <td>-0.015531</td>\n",
       "      <td>0.032100</td>\n",
       "      <td>4</td>\n",
       "    </tr>\n",
       "    <tr>\n",
       "      <th>4</th>\n",
       "      <td>0.006250</td>\n",
       "      <td>0.007654</td>\n",
       "      <td>0.003125</td>\n",
       "      <td>0.006250</td>\n",
       "      <td>10000000</td>\n",
       "      <td>{'alpha': 10000000}</td>\n",
       "      <td>-0.000022</td>\n",
       "      <td>-0.054372</td>\n",
       "      <td>-0.089570</td>\n",
       "      <td>-0.022060</td>\n",
       "      <td>-0.005964</td>\n",
       "      <td>-0.034398</td>\n",
       "      <td>0.033422</td>\n",
       "      <td>5</td>\n",
       "    </tr>\n",
       "  </tbody>\n",
       "</table>\n",
       "</div>"
      ],
      "text/plain": [
       "   mean_fit_time  std_fit_time  mean_score_time  std_score_time param_alpha  \\\n",
       "0       0.021876      0.007654         0.000000        0.000000         0.0   \n",
       "1       0.021474      0.007191         0.000000        0.000000        0.01   \n",
       "2       0.003125      0.006251         0.006251        0.007656           1   \n",
       "3       0.003125      0.006251         0.006251        0.007656         100   \n",
       "4       0.006250      0.007654         0.003125        0.006250    10000000   \n",
       "\n",
       "                params  split0_test_score  split1_test_score  \\\n",
       "0     {'alpha': 1e-12}           0.530360           0.334543   \n",
       "1      {'alpha': 0.01}           0.528804           0.336219   \n",
       "2         {'alpha': 1}           0.409869           0.296696   \n",
       "3       {'alpha': 100}           0.017298          -0.037187   \n",
       "4  {'alpha': 10000000}          -0.000022          -0.054372   \n",
       "\n",
       "   split2_test_score  split3_test_score  split4_test_score  mean_test_score  \\\n",
       "0           0.523595           0.439695           0.609672         0.487573   \n",
       "1           0.522995           0.463789           0.605908         0.491543   \n",
       "2           0.427301           0.433675           0.422895         0.398087   \n",
       "3          -0.067479          -0.001282           0.010996        -0.015531   \n",
       "4          -0.089570          -0.022060          -0.005964        -0.034398   \n",
       "\n",
       "   std_test_score  rank_test_score  \n",
       "0        0.093538                2  \n",
       "1        0.089836                1  \n",
       "2        0.051292                3  \n",
       "3        0.032100                4  \n",
       "4        0.033422                5  "
      ]
     },
     "execution_count": 26,
     "metadata": {},
     "output_type": "execute_result"
    }
   ],
   "source": [
    "grid = GridSearchCV(estimator=ridge, param_grid={'alpha':[1e-12, 0.01, 1, 100, 10000000]}, scoring='r2', n_jobs=-1)\n",
    "grid_result = grid.fit(X_train, y_train)\n",
    "\n",
    "# Now import the results into a dataframe \n",
    "df = pd.DataFrame(grid.cv_results_)\n",
    "df"
   ]
  },
  {
   "cell_type": "markdown",
   "metadata": {},
   "source": [
    "### <font color=\"green\">We do not need so many columns. We are only interested to know how the mean test score varies with different values of alpha. Lets look at those two columns.</font>"
   ]
  },
  {
   "cell_type": "code",
   "execution_count": 27,
   "metadata": {},
   "outputs": [
    {
     "data": {
      "text/html": [
       "<div>\n",
       "<style scoped>\n",
       "    .dataframe tbody tr th:only-of-type {\n",
       "        vertical-align: middle;\n",
       "    }\n",
       "\n",
       "    .dataframe tbody tr th {\n",
       "        vertical-align: top;\n",
       "    }\n",
       "\n",
       "    .dataframe thead th {\n",
       "        text-align: right;\n",
       "    }\n",
       "</style>\n",
       "<table border=\"1\" class=\"dataframe\">\n",
       "  <thead>\n",
       "    <tr style=\"text-align: right;\">\n",
       "      <th></th>\n",
       "      <th>param_alpha</th>\n",
       "      <th>mean_test_score</th>\n",
       "    </tr>\n",
       "  </thead>\n",
       "  <tbody>\n",
       "    <tr>\n",
       "      <th>0</th>\n",
       "      <td>0.0</td>\n",
       "      <td>0.487573</td>\n",
       "    </tr>\n",
       "    <tr>\n",
       "      <th>1</th>\n",
       "      <td>0.01</td>\n",
       "      <td>0.491543</td>\n",
       "    </tr>\n",
       "    <tr>\n",
       "      <th>2</th>\n",
       "      <td>1</td>\n",
       "      <td>0.398087</td>\n",
       "    </tr>\n",
       "    <tr>\n",
       "      <th>3</th>\n",
       "      <td>100</td>\n",
       "      <td>-0.015531</td>\n",
       "    </tr>\n",
       "    <tr>\n",
       "      <th>4</th>\n",
       "      <td>10000000</td>\n",
       "      <td>-0.034398</td>\n",
       "    </tr>\n",
       "  </tbody>\n",
       "</table>\n",
       "</div>"
      ],
      "text/plain": [
       "  param_alpha  mean_test_score\n",
       "0         0.0         0.487573\n",
       "1        0.01         0.491543\n",
       "2           1         0.398087\n",
       "3         100        -0.015531\n",
       "4    10000000        -0.034398"
      ]
     },
     "execution_count": 27,
     "metadata": {},
     "output_type": "execute_result"
    }
   ],
   "source": [
    "df[['param_alpha', 'mean_test_score']]"
   ]
  },
  {
   "cell_type": "markdown",
   "metadata": {},
   "source": [
    "### <font color=\"green\">Find the best score and the best parameter (alpha value) for that score.</font>"
   ]
  },
  {
   "cell_type": "code",
   "execution_count": 28,
   "metadata": {},
   "outputs": [
    {
     "name": "stdout",
     "output_type": "stream",
     "text": [
      "Best Score:  0.491543213273717\n",
      "Best Params:  {'alpha': 0.01}\n"
     ]
    }
   ],
   "source": [
    "print('Best Score: ', grid_result.best_score_)\n",
    "print('Best Params: ', grid_result.best_params_)"
   ]
  }
 ],
 "metadata": {
  "kernelspec": {
   "display_name": "Python 3 (ipykernel)",
   "language": "python",
   "name": "python3"
  },
  "language_info": {
   "codemirror_mode": {
    "name": "ipython",
    "version": 3
   },
   "file_extension": ".py",
   "mimetype": "text/x-python",
   "name": "python",
   "nbconvert_exporter": "python",
   "pygments_lexer": "ipython3",
   "version": "3.9.7"
  }
 },
 "nbformat": 4,
 "nbformat_minor": 4
}
