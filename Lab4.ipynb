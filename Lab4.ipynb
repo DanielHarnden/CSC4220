{
 "cells": [
  {
   "cell_type": "markdown",
   "metadata": {},
   "source": [
    "# Support Vector Machines"
   ]
  },
  {
   "cell_type": "markdown",
   "metadata": {},
   "source": [
    "#### <font color=\"green\">Import necessary libraries</font>"
   ]
  },
  {
   "cell_type": "code",
   "execution_count": 1,
   "metadata": {},
   "outputs": [],
   "source": [
    "import numpy as np\n",
    "import pandas as pd\n",
    "import matplotlib.pyplot as plt\n",
    "\n",
    "from sklearn import datasets  # library to download and use data from"
   ]
  },
  {
   "cell_type": "markdown",
   "metadata": {},
   "source": [
    "### <font color=\"green\">Import data</font>"
   ]
  },
  {
   "cell_type": "code",
   "execution_count": 2,
   "metadata": {},
   "outputs": [
    {
     "name": "stdout",
     "output_type": "stream",
     "text": [
      "Dataset loaded.\n"
     ]
    }
   ],
   "source": [
    "dataset = datasets.load_iris()\n",
    "print(\"Dataset loaded.\")"
   ]
  },
  {
   "cell_type": "code",
   "execution_count": 3,
   "metadata": {},
   "outputs": [],
   "source": [
    "# Prepare X and y with features and ground truth\n",
    "X = dataset.data[:, :2]\n",
    "y = dataset.target"
   ]
  },
  {
   "cell_type": "code",
   "execution_count": 4,
   "metadata": {},
   "outputs": [],
   "source": [
    "# now split the data into training data and test data (80/20 split)\n",
    "# random_state = k sets a specific random seed\n",
    "# since random_state is fixed, this call will always produce the same split\n",
    "# if you leave out the random_state value, you will get a different random split when you run it again\n",
    "from sklearn.model_selection import train_test_split\n",
    "X_train, X_test, y_train, y_test = train_test_split(X, y, test_size=0.2, random_state=0)"
   ]
  },
  {
   "cell_type": "markdown",
   "metadata": {},
   "source": [
    "### <font color=\"green\">For documentation (possible parameters, attributes and example code) on the SVC classifier, click on [SVC](https://scikit-learn.org/stable/modules/generated/sklearn.svm.SVC.html#sklearn.svm.SVC)</font>"
   ]
  },
  {
   "cell_type": "code",
   "execution_count": 5,
   "metadata": {},
   "outputs": [],
   "source": [
    "from sklearn.svm import SVC\n",
    "\n",
    "# create our model and fit it to our training data\n",
    "clf = SVC(kernel='rbf',C=1) # default values for kernel and C \n",
    "clf.fit(X_train, y_train) \n",
    "\n",
    "# make predictions on test data\n",
    "predicted = clf.predict(X_test)"
   ]
  },
  {
   "cell_type": "markdown",
   "metadata": {},
   "source": [
    "### <font color=\"green\">Performance analysis of the classifier</font>"
   ]
  },
  {
   "cell_type": "code",
   "execution_count": 6,
   "metadata": {
    "scrolled": true
   },
   "outputs": [
    {
     "name": "stdout",
     "output_type": "stream",
     "text": [
      "\u001b[32mconfusion matrix:\n",
      "\u001b[0m [[11  0  0]\n",
      " [ 0  8  5]\n",
      " [ 0  3  3]]\n",
      "\u001b[34m\n",
      "accuracy:\u001b[0m 0.7333333333333333\n",
      "\u001b[32m\n",
      "classification report:\n",
      "\u001b[0m               precision    recall  f1-score   support\n",
      "\n",
      "           0       1.00      1.00      1.00        11\n",
      "           1       0.73      0.62      0.67        13\n",
      "           2       0.38      0.50      0.43         6\n",
      "\n",
      "    accuracy                           0.73        30\n",
      "   macro avg       0.70      0.71      0.70        30\n",
      "weighted avg       0.76      0.73      0.74        30\n",
      "\n"
     ]
    }
   ],
   "source": [
    "from sklearn import metrics\n",
    "from termcolor import colored\n",
    "\n",
    "# print confusion matrix. \n",
    "# **Note** since the ground truth is not binary (has 3 labels), the confusion matrix is a 3x3 matrix\n",
    "print(colored('confusion matrix:\\n', 'green'), metrics.confusion_matrix(y_test, predicted))\n",
    "\n",
    "# print classifier accuracy\n",
    "print(colored('\\naccuracy:', 'blue'), metrics.accuracy_score(y_test, predicted))\n",
    "\n",
    "# print classification report (Precision, reall, and F1 score for each label, and average)\n",
    "print(colored('\\nclassification report:\\n', 'green'),metrics.classification_report(y_test, predicted))"
   ]
  },
  {
   "cell_type": "markdown",
   "metadata": {},
   "source": [
    "**<font color=\"green\" size=3>Experiment with parameter values</font>**\n",
    "\n",
    "**<font color=\"red\" size=3>  Daniel Harnden's Code:</font>**"
   ]
  },
  {
   "cell_type": "code",
   "execution_count": 7,
   "metadata": {},
   "outputs": [
    {
     "name": "stdout",
     "output_type": "stream",
     "text": [
      "\u001b[31mLinear confusion matrix:\n",
      "\u001b[0m [[11  0  0]\n",
      " [ 0  8  5]\n",
      " [ 0  4  2]]\n",
      "\u001b[31m\n",
      "Linear classification report:\n",
      "\u001b[0m               precision    recall  f1-score   support\n",
      "\n",
      "           0       1.00      1.00      1.00        11\n",
      "           1       0.67      0.62      0.64        13\n",
      "           2       0.29      0.33      0.31         6\n",
      "\n",
      "    accuracy                           0.70        30\n",
      "   macro avg       0.65      0.65      0.65        30\n",
      "weighted avg       0.71      0.70      0.71        30\n",
      "\n",
      "\u001b[31m\n",
      "\n",
      "\n",
      "Poly confusion matrix:\n",
      "\u001b[0m [[11  0  0]\n",
      " [ 0  5  8]\n",
      " [ 0  3  3]]\n",
      "\u001b[31m\n",
      "Poly classification report:\n",
      "\u001b[0m               precision    recall  f1-score   support\n",
      "\n",
      "           0       1.00      1.00      1.00        11\n",
      "           1       0.62      0.38      0.48        13\n",
      "           2       0.27      0.50      0.35         6\n",
      "\n",
      "    accuracy                           0.63        30\n",
      "   macro avg       0.63      0.63      0.61        30\n",
      "weighted avg       0.69      0.63      0.64        30\n",
      "\n",
      "\u001b[31m\n",
      "\n",
      "\n",
      "Sigmoid confusion matrix:\n",
      "\u001b[0m [[ 0  0 11]\n",
      " [ 0  0 13]\n",
      " [ 0  0  6]]\n",
      "\u001b[31m\n",
      "Sigmoid classification report:\n",
      "\u001b[0m               precision    recall  f1-score   support\n",
      "\n",
      "           0       0.00      0.00      0.00        11\n",
      "           1       0.00      0.00      0.00        13\n",
      "           2       0.20      1.00      0.33         6\n",
      "\n",
      "    accuracy                           0.20        30\n",
      "   macro avg       0.07      0.33      0.11        30\n",
      "weighted avg       0.04      0.20      0.07        30\n",
      "\n"
     ]
    }
   ],
   "source": [
    "# try out other kernels ('linear' 'poly' 'sigmoid') and other values for C\n",
    "\n",
    "# linear\n",
    "linearParams = SVC(kernel='linear',C=5)\n",
    "linearParams.fit(X_train, y_train) \n",
    "linearPredicted = linearParams.predict(X_test)\n",
    "\n",
    "print(colored('Linear confusion matrix:\\n', 'red'), metrics.confusion_matrix(y_test, linearPredicted))\n",
    "metrics.accuracy_score(y_test, linearPredicted)\n",
    "print(colored('\\nLinear classification report:\\n', 'red'),metrics.classification_report(y_test, linearPredicted))\n",
    "\n",
    "\n",
    "\n",
    "# poly\n",
    "polyParams = SVC(kernel='poly',C=5)\n",
    "polyParams.fit(X_train, y_train) \n",
    "polyPredicted = polyParams.predict(X_test)\n",
    "\n",
    "print(colored('\\n\\n\\nPoly confusion matrix:\\n', 'red'), metrics.confusion_matrix(y_test, polyPredicted))\n",
    "metrics.accuracy_score(y_test, polyPredicted)\n",
    "print(colored('\\nPoly classification report:\\n', 'red'),metrics.classification_report(y_test, polyPredicted))\n",
    "\n",
    "\n",
    "\n",
    "# sigmoid\n",
    "sigmoidParams = SVC(kernel='sigmoid',C=5)\n",
    "sigmoidParams.fit(X_train, y_train) \n",
    "sigmoidPredicted = sigmoidParams.predict(X_test)\n",
    "\n",
    "print(colored('\\n\\n\\nSigmoid confusion matrix:\\n', 'red'), metrics.confusion_matrix(y_test, sigmoidPredicted))\n",
    "metrics.accuracy_score(y_test, sigmoidPredicted)\n",
    "print(colored('\\nSigmoid classification report:\\n', 'red'),metrics.classification_report(y_test, sigmoidPredicted, zero_division=0))"
   ]
  },
  {
   "cell_type": "markdown",
   "metadata": {},
   "source": [
    "#### <font color=\"green\">Hyperparameter tuning using GridSearchCV</font>"
   ]
  },
  {
   "cell_type": "code",
   "execution_count": 8,
   "metadata": {
    "scrolled": true
   },
   "outputs": [
    {
     "name": "stdout",
     "output_type": "stream",
     "text": [
      "\u001b[31mBest parameters:\u001b[0m {'C': 1, 'kernel': 'rbf'} \n",
      "\n",
      "\u001b[31m\n",
      "accuracy:\u001b[0m 0.7333333333333333\n",
      "\u001b[31m\n",
      "classification report:\n",
      "\u001b[0m               precision    recall  f1-score   support\n",
      "\n",
      "           0       1.00      1.00      1.00        11\n",
      "           1       0.73      0.62      0.67        13\n",
      "           2       0.38      0.50      0.43         6\n",
      "\n",
      "    accuracy                           0.73        30\n",
      "   macro avg       0.70      0.71      0.70        30\n",
      "weighted avg       0.76      0.73      0.74        30\n",
      "\n",
      "\u001b[31mconfusion matrix:\n",
      "\u001b[0m [[11  0  0]\n",
      " [ 0  8  5]\n",
      " [ 0  3  3]]\n"
     ]
    }
   ],
   "source": [
    "from sklearn.model_selection import GridSearchCV\n",
    "\n",
    "parameters = {'kernel':('linear', 'rbf', 'poly'), 'C':[1, 5, 10]}\n",
    "\n",
    "svc = SVC()\n",
    "\n",
    "clf = GridSearchCV(svc, parameters, n_jobs=-1) # n_jobs -> number of parallel jobs\n",
    "                                               # -1 -> whatever the architecture allows\n",
    "\n",
    "clf.fit(X_train, y_train)\n",
    "\n",
    "print(colored('Best parameters:', 'red'), clf.best_params_,\"\\n\") # print best parameters\n",
    "\n",
    "# make predictions on test data\n",
    "predicted = clf.predict(X_test)\n",
    "\n",
    "# print accuracy\n",
    "print(colored('\\naccuracy:', 'red'), metrics.accuracy_score(y_test, predicted))\n",
    "\n",
    "# print precision and recall statistics\n",
    "print(colored('\\nclassification report:\\n', 'red'),metrics.classification_report(y_test, predicted))\n",
    "\n",
    "# print confusion matrix\n",
    "print(colored('confusion matrix:\\n', 'red'),metrics.confusion_matrix(y_test, predicted))"
   ]
  },
  {
   "cell_type": "markdown",
   "metadata": {},
   "source": [
    "**<font color=\"green\" size=4>Now follow the code above and implement LinearSVC on the same data. Fit classifier and predict, then calculate Accuracy, print confusion matrix and classification report.</font>**\n",
    "\n",
    "**<font color=\"red\" size=3>  Daniel Harnden's Code:</font>**"
   ]
  },
  {
   "cell_type": "markdown",
   "metadata": {},
   "source": [
    "### <font color=\"green\">Documentation for [LinearSVC](https://scikit-learn.org/stable/modules/generated/sklearn.svm.LinearSVC.html#sklearn.svm.LinearSVC)</font>"
   ]
  },
  {
   "cell_type": "code",
   "execution_count": 9,
   "metadata": {},
   "outputs": [
    {
     "name": "stdout",
     "output_type": "stream",
     "text": [
      "\u001b[31mLinear SVC confusion matrix:\n",
      "\u001b[0m [[11  0  0]\n",
      " [ 0  4  9]\n",
      " [ 0  2  4]]\n",
      "\u001b[31m\n",
      "Linear SVC classification report:\n",
      "\u001b[0m               precision    recall  f1-score   support\n",
      "\n",
      "           0       1.00      1.00      1.00        11\n",
      "           1       0.67      0.31      0.42        13\n",
      "           2       0.31      0.67      0.42         6\n",
      "\n",
      "    accuracy                           0.63        30\n",
      "   macro avg       0.66      0.66      0.61        30\n",
      "weighted avg       0.72      0.63      0.63        30\n",
      "\n"
     ]
    },
    {
     "name": "stderr",
     "output_type": "stream",
     "text": [
      "C:\\Users\\Ghast\\anaconda3\\lib\\site-packages\\sklearn\\svm\\_base.py:1206: ConvergenceWarning: Liblinear failed to converge, increase the number of iterations.\n",
      "  warnings.warn(\n"
     ]
    }
   ],
   "source": [
    "# Import linear SVC (Everything else has been imported earlier)\n",
    "from sklearn.svm import LinearSVC\n",
    "# Only implement the classifier and calculate performance. No need to do train_test_split.\n",
    "lSVC = LinearSVC(random_state=0, tol=1e-10)\n",
    "lSVC.fit(X_train, y_train)\n",
    "lSVCpred = lSVC.predict(X_test)\n",
    "\n",
    "print(colored('Linear SVC confusion matrix:\\n', 'red'), metrics.confusion_matrix(y_test, lSVCpred))\n",
    "metrics.accuracy_score(y_test, lSVCpred)\n",
    "print(colored('\\nLinear SVC classification report:\\n', 'red'),metrics.classification_report(y_test, lSVCpred))"
   ]
  },
  {
   "cell_type": "markdown",
   "metadata": {},
   "source": [
    "**<font color=\"green\" size=4>Now find the best parameter for your classifier using GridSearchCV (like shown above). Calculate Accuracy, print best parameters, confusion matrix and classification report.</font>**\\\n",
    "\n",
    "**<font color=\"red\" size=3>  Daniel Harnden's Code:</font>**"
   ]
  },
  {
   "cell_type": "code",
   "execution_count": 10,
   "metadata": {},
   "outputs": [
    {
     "name": "stdout",
     "output_type": "stream",
     "text": [
      "\u001b[31m\n",
      "Accuracy:\u001b[0m 0.7333333333333333\n",
      "\u001b[31m\n",
      "Best parameters:\u001b[0m {'C': 1, 'kernel': 'rbf'} \n",
      "\n",
      "\u001b[31m\n",
      "GridSearchCV confusion matrix:\n",
      "\u001b[0m [[11  0  0]\n",
      " [ 0  8  5]\n",
      " [ 0  3  3]]\n",
      "\u001b[31m\n",
      "GridSearchCV classification report:\n",
      "\u001b[0m               precision    recall  f1-score   support\n",
      "\n",
      "           0       1.00      1.00      1.00        11\n",
      "           1       0.73      0.62      0.67        13\n",
      "           2       0.38      0.50      0.43         6\n",
      "\n",
      "    accuracy                           0.73        30\n",
      "   macro avg       0.70      0.71      0.70        30\n",
      "weighted avg       0.76      0.73      0.74        30\n",
      "\n"
     ]
    }
   ],
   "source": [
    "# your code here\n",
    "GSCVparams = {'kernel':('linear', 'linear', 'linear', 'rbf', 'rbf', 'rbf', 'poly', 'poly', 'poly', 'sigmoid', 'sigmoid', 'sigmoid'), 'C':[1, 5, 10, 1, 5, 10, 1, 5, 10, 1, 5, 10]}\n",
    "svc = SVC()\n",
    "GSCVclf = GridSearchCV(svc, GSCVparams, n_jobs=-1)\n",
    "GSCVclf.fit(X_train, y_train)\n",
    "GSCVpred = GSCVclf.predict(X_test)\n",
    "\n",
    "\n",
    "print(colored('\\nAccuracy:', 'red'), metrics.accuracy_score(y_test, GSCVpred))\n",
    "print(colored('\\nBest parameters:', 'red'), GSCVclf.best_params_,\"\\n\")\n",
    "print(colored('\\nGridSearchCV confusion matrix:\\n', 'red'),metrics.confusion_matrix(y_test, GSCVpred))\n",
    "print(colored('\\nGridSearchCV classification report:\\n', 'red'),metrics.classification_report(y_test, GSCVpred))"
   ]
  }
 ],
 "metadata": {
  "kernelspec": {
   "display_name": "Python 3 (ipykernel)",
   "language": "python",
   "name": "python3"
  },
  "language_info": {
   "codemirror_mode": {
    "name": "ipython",
    "version": 3
   },
   "file_extension": ".py",
   "mimetype": "text/x-python",
   "name": "python",
   "nbconvert_exporter": "python",
   "pygments_lexer": "ipython3",
   "version": "3.9.7"
  }
 },
 "nbformat": 4,
 "nbformat_minor": 4
}
